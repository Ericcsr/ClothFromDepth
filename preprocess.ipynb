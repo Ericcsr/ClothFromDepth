{
 "cells": [
  {
   "cell_type": "code",
   "execution_count": 11,
   "metadata": {},
   "outputs": [],
   "source": [
    "import open3d as o3d\n",
    "import numpy as np\n",
    "import cv2 as cv"
   ]
  },
  {
   "cell_type": "code",
   "execution_count": 12,
   "metadata": {},
   "outputs": [],
   "source": [
    "pcd = o3d.io.read_point_cloud(\"./pointcloud_raw/scatters/out_10.ply\")"
   ]
  },
  {
   "cell_type": "code",
   "execution_count": 13,
   "metadata": {},
   "outputs": [
    {
     "data": {
      "text/plain": [
       "PointCloud with 57229 points."
      ]
     },
     "execution_count": 13,
     "metadata": {},
     "output_type": "execute_result"
    }
   ],
   "source": [
    "pcd"
   ]
  },
  {
   "cell_type": "code",
   "execution_count": 14,
   "metadata": {},
   "outputs": [
    {
     "name": "stdout",
     "output_type": "stream",
     "text": [
      "(57229, 3)\n"
     ]
    }
   ],
   "source": [
    "print(np.asarray(pcd.points).shape)"
   ]
  },
  {
   "cell_type": "code",
   "execution_count": 15,
   "metadata": {},
   "outputs": [],
   "source": [
    "len(pcd.colors)\n",
    "color = np.asarray(pcd.colors)\n",
    "color[:,[0,2]] = color[:,[2,0]]\n",
    "pcd.colors = o3d.utility.Vector3dVector(color)"
   ]
  },
  {
   "cell_type": "code",
   "execution_count": 16,
   "metadata": {},
   "outputs": [],
   "source": [
    "o3d.visualization.draw_geometries([pcd])"
   ]
  },
  {
   "cell_type": "code",
   "execution_count": 17,
   "metadata": {},
   "outputs": [],
   "source": [
    "new_color = np.asarray(pcd.colors)\n",
    "mask = (new_color[:,0] > 0.5) * (new_color[:,1] < 0.4) * (new_color[:,2] < 0.4)\n",
    "points = np.asarray(pcd.points)\n",
    "new_pcd = o3d.geometry.PointCloud()\n",
    "new_pcd.points = o3d.utility.Vector3dVector(points[mask])\n",
    "new_pcd.colors = o3d.utility.Vector3dVector(new_color[mask])"
   ]
  },
  {
   "cell_type": "code",
   "execution_count": 18,
   "metadata": {},
   "outputs": [],
   "source": [
    "o3d.visualization.draw_geometries([new_pcd])"
   ]
  },
  {
   "cell_type": "code",
   "execution_count": 8,
   "metadata": {},
   "outputs": [],
   "source": [
    "def computeTF(pointcloud_register):\n",
    "    # Remove outlier\n",
    "    pointcloud_register.remove_statistical_outlier(nb_neighbors=20, std_ratio=0.04)\n",
    "    # Compute obb\n",
    "    points = np.asarray(pointcloud_register.points)\n",
    "    top = points[np.argmax(points[:,1])]\n",
    "    bottom = points[np.argmin(points[:,1])]\n",
    "    left = points[np.argmin(points[:,0])]\n",
    "    right = points[np.argmax(points[:,0])]\n",
    "    \n",
    "    R = np.zeros((3,3))\n",
    "    R[:,0] = (right - left)/np.linalg.norm(right-left,2)\n",
    "    R[:,1] = (top - bottom)/np.linalg.norm(top - bottom,2)\n",
    "    R[:,2] = np.cross(R[:,0],R[:,1])\n",
    "    R = R.T\n",
    "\n",
    "    # set the point with minimum x then minimum y as origin\n",
    "    T = -(top + bottom+left+right)/4\n",
    "    return R, T\n",
    "# Pw = R(Pc + T)"
   ]
  },
  {
   "cell_type": "code",
   "execution_count": 9,
   "metadata": {},
   "outputs": [
    {
     "data": {
      "text/plain": [
       "PointCloud with 360 points."
      ]
     },
     "execution_count": 9,
     "metadata": {},
     "output_type": "execute_result"
    }
   ],
   "source": [
    "new_color = np.asarray(pcd.colors)\n",
    "R, T =  computeTF(new_pcd)\n",
    "new_pcd.translate(T)\n",
    "new_pcd.rotate(R, center=(0, 0, 0))\n"
   ]
  },
  {
   "cell_type": "code",
   "execution_count": 10,
   "metadata": {},
   "outputs": [],
   "source": [
    "o3d.visualization.draw_geometries([new_pcd])"
   ]
  },
  {
   "cell_type": "code",
   "execution_count": null,
   "metadata": {},
   "outputs": [],
   "source": [
    "np.savez(\"extrinsic.npz\", R=R, T=T)"
   ]
  }
 ],
 "metadata": {
  "interpreter": {
   "hash": "9d3e811efba291c119cf47f0dd25a3fc39f7a2aa729f6887ab2e29a9418ca7a9"
  },
  "kernelspec": {
   "display_name": "Python 3.7.0 64-bit ('pytorch_latest_p37': conda)",
   "language": "python",
   "name": "python3"
  },
  "language_info": {
   "codemirror_mode": {
    "name": "ipython",
    "version": 3
   },
   "file_extension": ".py",
   "mimetype": "text/x-python",
   "name": "python",
   "nbconvert_exporter": "python",
   "pygments_lexer": "ipython3",
   "version": "3.7.0"
  },
  "orig_nbformat": 4
 },
 "nbformat": 4,
 "nbformat_minor": 2
}
